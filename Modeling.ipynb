{
 "cells": [
  {
   "cell_type": "markdown",
   "id": "bfdba763",
   "metadata": {},
   "source": [
    "# Imports"
   ]
  },
  {
   "cell_type": "code",
   "execution_count": 1,
   "id": "97368317",
   "metadata": {},
   "outputs": [],
   "source": [
    "import pandas as pd\n",
    "import numpy as np\n",
    "from sklearn import tree, metrics\n",
    "from sklearn.model_selection import train_test_split\n",
    "import seaborn as sns\n",
    "import matplotlib.pyplot as plt\n",
    "from io import StringIO  \n",
    "from IPython.display import Image  \n",
    "import pydotplus"
   ]
  },
  {
   "cell_type": "markdown",
   "id": "fa559cd4",
   "metadata": {},
   "source": [
    "# Load Data"
   ]
  },
  {
   "cell_type": "code",
   "execution_count": 2,
   "id": "e2118b6a",
   "metadata": {},
   "outputs": [],
   "source": [
    "dummy_df = pd.read_csv('dummy_df.csv')"
   ]
  },
  {
   "cell_type": "code",
   "execution_count": 3,
   "id": "b0e131b7",
   "metadata": {
    "scrolled": true
   },
   "outputs": [
    {
     "data": {
      "text/html": [
       "<div>\n",
       "<style scoped>\n",
       "    .dataframe tbody tr th:only-of-type {\n",
       "        vertical-align: middle;\n",
       "    }\n",
       "\n",
       "    .dataframe tbody tr th {\n",
       "        vertical-align: top;\n",
       "    }\n",
       "\n",
       "    .dataframe thead th {\n",
       "        text-align: right;\n",
       "    }\n",
       "</style>\n",
       "<table border=\"1\" class=\"dataframe\">\n",
       "  <thead>\n",
       "    <tr style=\"text-align: right;\">\n",
       "      <th></th>\n",
       "      <th>Gender</th>\n",
       "      <th>Senior Citizen</th>\n",
       "      <th>Tenure</th>\n",
       "      <th>Monthly Charges</th>\n",
       "      <th>Total Charges</th>\n",
       "      <th>Churn</th>\n",
       "      <th>Partner_Yes</th>\n",
       "      <th>Dependents_Yes</th>\n",
       "      <th>Phone Service_Yes</th>\n",
       "      <th>Multiple Lines_No phone service</th>\n",
       "      <th>...</th>\n",
       "      <th>Streaming TV_No internet service</th>\n",
       "      <th>Streaming TV_Yes</th>\n",
       "      <th>Streaming Movies_No internet service</th>\n",
       "      <th>Streaming Movies_Yes</th>\n",
       "      <th>Contract_One year</th>\n",
       "      <th>Contract_Two year</th>\n",
       "      <th>Paperless Billing_Yes</th>\n",
       "      <th>Payment Method_Credit card (automatic)</th>\n",
       "      <th>Payment Method_Electronic check</th>\n",
       "      <th>Payment Method_Mailed check</th>\n",
       "    </tr>\n",
       "  </thead>\n",
       "  <tbody>\n",
       "    <tr>\n",
       "      <th>0</th>\n",
       "      <td>1</td>\n",
       "      <td>0</td>\n",
       "      <td>34</td>\n",
       "      <td>56.95</td>\n",
       "      <td>1889.50</td>\n",
       "      <td>0</td>\n",
       "      <td>0</td>\n",
       "      <td>0</td>\n",
       "      <td>1</td>\n",
       "      <td>0</td>\n",
       "      <td>...</td>\n",
       "      <td>0</td>\n",
       "      <td>0</td>\n",
       "      <td>0</td>\n",
       "      <td>0</td>\n",
       "      <td>1</td>\n",
       "      <td>0</td>\n",
       "      <td>0</td>\n",
       "      <td>0</td>\n",
       "      <td>0</td>\n",
       "      <td>1</td>\n",
       "    </tr>\n",
       "    <tr>\n",
       "      <th>1</th>\n",
       "      <td>1</td>\n",
       "      <td>0</td>\n",
       "      <td>2</td>\n",
       "      <td>53.85</td>\n",
       "      <td>108.15</td>\n",
       "      <td>1</td>\n",
       "      <td>0</td>\n",
       "      <td>0</td>\n",
       "      <td>1</td>\n",
       "      <td>0</td>\n",
       "      <td>...</td>\n",
       "      <td>0</td>\n",
       "      <td>0</td>\n",
       "      <td>0</td>\n",
       "      <td>0</td>\n",
       "      <td>0</td>\n",
       "      <td>0</td>\n",
       "      <td>1</td>\n",
       "      <td>0</td>\n",
       "      <td>0</td>\n",
       "      <td>1</td>\n",
       "    </tr>\n",
       "    <tr>\n",
       "      <th>2</th>\n",
       "      <td>0</td>\n",
       "      <td>0</td>\n",
       "      <td>2</td>\n",
       "      <td>70.70</td>\n",
       "      <td>151.65</td>\n",
       "      <td>1</td>\n",
       "      <td>0</td>\n",
       "      <td>0</td>\n",
       "      <td>1</td>\n",
       "      <td>0</td>\n",
       "      <td>...</td>\n",
       "      <td>0</td>\n",
       "      <td>0</td>\n",
       "      <td>0</td>\n",
       "      <td>0</td>\n",
       "      <td>0</td>\n",
       "      <td>0</td>\n",
       "      <td>1</td>\n",
       "      <td>0</td>\n",
       "      <td>1</td>\n",
       "      <td>0</td>\n",
       "    </tr>\n",
       "    <tr>\n",
       "      <th>3</th>\n",
       "      <td>0</td>\n",
       "      <td>0</td>\n",
       "      <td>8</td>\n",
       "      <td>99.65</td>\n",
       "      <td>820.50</td>\n",
       "      <td>1</td>\n",
       "      <td>0</td>\n",
       "      <td>0</td>\n",
       "      <td>1</td>\n",
       "      <td>0</td>\n",
       "      <td>...</td>\n",
       "      <td>0</td>\n",
       "      <td>1</td>\n",
       "      <td>0</td>\n",
       "      <td>1</td>\n",
       "      <td>0</td>\n",
       "      <td>0</td>\n",
       "      <td>1</td>\n",
       "      <td>0</td>\n",
       "      <td>1</td>\n",
       "      <td>0</td>\n",
       "    </tr>\n",
       "    <tr>\n",
       "      <th>4</th>\n",
       "      <td>1</td>\n",
       "      <td>0</td>\n",
       "      <td>22</td>\n",
       "      <td>89.10</td>\n",
       "      <td>1949.40</td>\n",
       "      <td>0</td>\n",
       "      <td>0</td>\n",
       "      <td>1</td>\n",
       "      <td>1</td>\n",
       "      <td>0</td>\n",
       "      <td>...</td>\n",
       "      <td>0</td>\n",
       "      <td>1</td>\n",
       "      <td>0</td>\n",
       "      <td>0</td>\n",
       "      <td>0</td>\n",
       "      <td>0</td>\n",
       "      <td>1</td>\n",
       "      <td>1</td>\n",
       "      <td>0</td>\n",
       "      <td>0</td>\n",
       "    </tr>\n",
       "  </tbody>\n",
       "</table>\n",
       "<p>5 rows × 31 columns</p>\n",
       "</div>"
      ],
      "text/plain": [
       "   Gender  Senior Citizen  Tenure  Monthly Charges  Total Charges  Churn  \\\n",
       "0       1               0      34            56.95        1889.50      0   \n",
       "1       1               0       2            53.85         108.15      1   \n",
       "2       0               0       2            70.70         151.65      1   \n",
       "3       0               0       8            99.65         820.50      1   \n",
       "4       1               0      22            89.10        1949.40      0   \n",
       "\n",
       "   Partner_Yes  Dependents_Yes  Phone Service_Yes  \\\n",
       "0            0               0                  1   \n",
       "1            0               0                  1   \n",
       "2            0               0                  1   \n",
       "3            0               0                  1   \n",
       "4            0               1                  1   \n",
       "\n",
       "   Multiple Lines_No phone service  ...  Streaming TV_No internet service  \\\n",
       "0                                0  ...                                 0   \n",
       "1                                0  ...                                 0   \n",
       "2                                0  ...                                 0   \n",
       "3                                0  ...                                 0   \n",
       "4                                0  ...                                 0   \n",
       "\n",
       "   Streaming TV_Yes  Streaming Movies_No internet service  \\\n",
       "0                 0                                     0   \n",
       "1                 0                                     0   \n",
       "2                 0                                     0   \n",
       "3                 1                                     0   \n",
       "4                 1                                     0   \n",
       "\n",
       "   Streaming Movies_Yes  Contract_One year  Contract_Two year  \\\n",
       "0                     0                  1                  0   \n",
       "1                     0                  0                  0   \n",
       "2                     0                  0                  0   \n",
       "3                     1                  0                  0   \n",
       "4                     0                  0                  0   \n",
       "\n",
       "   Paperless Billing_Yes  Payment Method_Credit card (automatic)  \\\n",
       "0                      0                                       0   \n",
       "1                      1                                       0   \n",
       "2                      1                                       0   \n",
       "3                      1                                       0   \n",
       "4                      1                                       1   \n",
       "\n",
       "   Payment Method_Electronic check  Payment Method_Mailed check  \n",
       "0                                0                            1  \n",
       "1                                0                            1  \n",
       "2                                1                            0  \n",
       "3                                1                            0  \n",
       "4                                0                            0  \n",
       "\n",
       "[5 rows x 31 columns]"
      ]
     },
     "execution_count": 3,
     "metadata": {},
     "output_type": "execute_result"
    }
   ],
   "source": [
    "dummy_df.head()"
   ]
  },
  {
   "cell_type": "markdown",
   "id": "15b37ba5",
   "metadata": {},
   "source": [
    "## Splitting our Data"
   ]
  },
  {
   "cell_type": "code",
   "execution_count": 4,
   "id": "a1c1e38c",
   "metadata": {},
   "outputs": [],
   "source": [
    "# Establish target feature, churn\n",
    "y = dummy_df.Churn.values\n",
    "# Drop the target feature from remaining features\n",
    "X = dummy_df.drop('Churn', axis = 1)\n",
    "# Save dataframe column titles to list, we will need them in next step\n",
    "cols = X.columns"
   ]
  },
  {
   "cell_type": "code",
   "execution_count": 5,
   "id": "744ac619",
   "metadata": {},
   "outputs": [
    {
     "data": {
      "text/plain": [
       "array([0, 1, 1, ..., 1, 0, 1], dtype=int64)"
      ]
     },
     "execution_count": 5,
     "metadata": {},
     "output_type": "execute_result"
    }
   ],
   "source": [
    "y"
   ]
  },
  {
   "cell_type": "code",
   "execution_count": 6,
   "id": "ff9bfe85",
   "metadata": {},
   "outputs": [
    {
     "data": {
      "text/html": [
       "<div>\n",
       "<style scoped>\n",
       "    .dataframe tbody tr th:only-of-type {\n",
       "        vertical-align: middle;\n",
       "    }\n",
       "\n",
       "    .dataframe tbody tr th {\n",
       "        vertical-align: top;\n",
       "    }\n",
       "\n",
       "    .dataframe thead th {\n",
       "        text-align: right;\n",
       "    }\n",
       "</style>\n",
       "<table border=\"1\" class=\"dataframe\">\n",
       "  <thead>\n",
       "    <tr style=\"text-align: right;\">\n",
       "      <th></th>\n",
       "      <th>Gender</th>\n",
       "      <th>Senior Citizen</th>\n",
       "      <th>Tenure</th>\n",
       "      <th>Monthly Charges</th>\n",
       "      <th>Total Charges</th>\n",
       "      <th>Partner_Yes</th>\n",
       "      <th>Dependents_Yes</th>\n",
       "      <th>Phone Service_Yes</th>\n",
       "      <th>Multiple Lines_No phone service</th>\n",
       "      <th>Multiple Lines_Yes</th>\n",
       "      <th>...</th>\n",
       "      <th>Streaming TV_No internet service</th>\n",
       "      <th>Streaming TV_Yes</th>\n",
       "      <th>Streaming Movies_No internet service</th>\n",
       "      <th>Streaming Movies_Yes</th>\n",
       "      <th>Contract_One year</th>\n",
       "      <th>Contract_Two year</th>\n",
       "      <th>Paperless Billing_Yes</th>\n",
       "      <th>Payment Method_Credit card (automatic)</th>\n",
       "      <th>Payment Method_Electronic check</th>\n",
       "      <th>Payment Method_Mailed check</th>\n",
       "    </tr>\n",
       "  </thead>\n",
       "  <tbody>\n",
       "    <tr>\n",
       "      <th>0</th>\n",
       "      <td>1</td>\n",
       "      <td>0</td>\n",
       "      <td>34</td>\n",
       "      <td>56.95</td>\n",
       "      <td>1889.50</td>\n",
       "      <td>0</td>\n",
       "      <td>0</td>\n",
       "      <td>1</td>\n",
       "      <td>0</td>\n",
       "      <td>0</td>\n",
       "      <td>...</td>\n",
       "      <td>0</td>\n",
       "      <td>0</td>\n",
       "      <td>0</td>\n",
       "      <td>0</td>\n",
       "      <td>1</td>\n",
       "      <td>0</td>\n",
       "      <td>0</td>\n",
       "      <td>0</td>\n",
       "      <td>0</td>\n",
       "      <td>1</td>\n",
       "    </tr>\n",
       "    <tr>\n",
       "      <th>1</th>\n",
       "      <td>1</td>\n",
       "      <td>0</td>\n",
       "      <td>2</td>\n",
       "      <td>53.85</td>\n",
       "      <td>108.15</td>\n",
       "      <td>0</td>\n",
       "      <td>0</td>\n",
       "      <td>1</td>\n",
       "      <td>0</td>\n",
       "      <td>0</td>\n",
       "      <td>...</td>\n",
       "      <td>0</td>\n",
       "      <td>0</td>\n",
       "      <td>0</td>\n",
       "      <td>0</td>\n",
       "      <td>0</td>\n",
       "      <td>0</td>\n",
       "      <td>1</td>\n",
       "      <td>0</td>\n",
       "      <td>0</td>\n",
       "      <td>1</td>\n",
       "    </tr>\n",
       "    <tr>\n",
       "      <th>2</th>\n",
       "      <td>0</td>\n",
       "      <td>0</td>\n",
       "      <td>2</td>\n",
       "      <td>70.70</td>\n",
       "      <td>151.65</td>\n",
       "      <td>0</td>\n",
       "      <td>0</td>\n",
       "      <td>1</td>\n",
       "      <td>0</td>\n",
       "      <td>0</td>\n",
       "      <td>...</td>\n",
       "      <td>0</td>\n",
       "      <td>0</td>\n",
       "      <td>0</td>\n",
       "      <td>0</td>\n",
       "      <td>0</td>\n",
       "      <td>0</td>\n",
       "      <td>1</td>\n",
       "      <td>0</td>\n",
       "      <td>1</td>\n",
       "      <td>0</td>\n",
       "    </tr>\n",
       "    <tr>\n",
       "      <th>3</th>\n",
       "      <td>0</td>\n",
       "      <td>0</td>\n",
       "      <td>8</td>\n",
       "      <td>99.65</td>\n",
       "      <td>820.50</td>\n",
       "      <td>0</td>\n",
       "      <td>0</td>\n",
       "      <td>1</td>\n",
       "      <td>0</td>\n",
       "      <td>1</td>\n",
       "      <td>...</td>\n",
       "      <td>0</td>\n",
       "      <td>1</td>\n",
       "      <td>0</td>\n",
       "      <td>1</td>\n",
       "      <td>0</td>\n",
       "      <td>0</td>\n",
       "      <td>1</td>\n",
       "      <td>0</td>\n",
       "      <td>1</td>\n",
       "      <td>0</td>\n",
       "    </tr>\n",
       "    <tr>\n",
       "      <th>4</th>\n",
       "      <td>1</td>\n",
       "      <td>0</td>\n",
       "      <td>22</td>\n",
       "      <td>89.10</td>\n",
       "      <td>1949.40</td>\n",
       "      <td>0</td>\n",
       "      <td>1</td>\n",
       "      <td>1</td>\n",
       "      <td>0</td>\n",
       "      <td>1</td>\n",
       "      <td>...</td>\n",
       "      <td>0</td>\n",
       "      <td>1</td>\n",
       "      <td>0</td>\n",
       "      <td>0</td>\n",
       "      <td>0</td>\n",
       "      <td>0</td>\n",
       "      <td>1</td>\n",
       "      <td>1</td>\n",
       "      <td>0</td>\n",
       "      <td>0</td>\n",
       "    </tr>\n",
       "  </tbody>\n",
       "</table>\n",
       "<p>5 rows × 30 columns</p>\n",
       "</div>"
      ],
      "text/plain": [
       "   Gender  Senior Citizen  Tenure  Monthly Charges  Total Charges  \\\n",
       "0       1               0      34            56.95        1889.50   \n",
       "1       1               0       2            53.85         108.15   \n",
       "2       0               0       2            70.70         151.65   \n",
       "3       0               0       8            99.65         820.50   \n",
       "4       1               0      22            89.10        1949.40   \n",
       "\n",
       "   Partner_Yes  Dependents_Yes  Phone Service_Yes  \\\n",
       "0            0               0                  1   \n",
       "1            0               0                  1   \n",
       "2            0               0                  1   \n",
       "3            0               0                  1   \n",
       "4            0               1                  1   \n",
       "\n",
       "   Multiple Lines_No phone service  Multiple Lines_Yes  ...  \\\n",
       "0                                0                   0  ...   \n",
       "1                                0                   0  ...   \n",
       "2                                0                   0  ...   \n",
       "3                                0                   1  ...   \n",
       "4                                0                   1  ...   \n",
       "\n",
       "   Streaming TV_No internet service  Streaming TV_Yes  \\\n",
       "0                                 0                 0   \n",
       "1                                 0                 0   \n",
       "2                                 0                 0   \n",
       "3                                 0                 1   \n",
       "4                                 0                 1   \n",
       "\n",
       "   Streaming Movies_No internet service  Streaming Movies_Yes  \\\n",
       "0                                     0                     0   \n",
       "1                                     0                     0   \n",
       "2                                     0                     0   \n",
       "3                                     0                     1   \n",
       "4                                     0                     0   \n",
       "\n",
       "   Contract_One year  Contract_Two year  Paperless Billing_Yes  \\\n",
       "0                  1                  0                      0   \n",
       "1                  0                  0                      1   \n",
       "2                  0                  0                      1   \n",
       "3                  0                  0                      1   \n",
       "4                  0                  0                      1   \n",
       "\n",
       "   Payment Method_Credit card (automatic)  Payment Method_Electronic check  \\\n",
       "0                                       0                                0   \n",
       "1                                       0                                0   \n",
       "2                                       0                                1   \n",
       "3                                       0                                1   \n",
       "4                                       1                                0   \n",
       "\n",
       "   Payment Method_Mailed check  \n",
       "0                            1  \n",
       "1                            1  \n",
       "2                            0  \n",
       "3                            0  \n",
       "4                            0  \n",
       "\n",
       "[5 rows x 30 columns]"
      ]
     },
     "execution_count": 6,
     "metadata": {},
     "output_type": "execute_result"
    }
   ],
   "source": [
    "X.head()"
   ]
  },
  {
   "cell_type": "markdown",
   "id": "abaf5357",
   "metadata": {},
   "source": [
    "## Feature Scaling"
   ]
  },
  {
   "cell_type": "code",
   "execution_count": 7,
   "id": "5e4acf81",
   "metadata": {},
   "outputs": [],
   "source": [
    "# Import the necessary sklearn method\n",
    "from sklearn.preprocessing import MinMaxScaler\n",
    "# Instantiate a Min-Max scaling object\n",
    "mm = MinMaxScaler()\n",
    "# Fit and transform our feature data into a pandas dataframe\n",
    "X = pd.DataFrame(mm.fit_transform(X))"
   ]
  },
  {
   "cell_type": "code",
   "execution_count": 8,
   "id": "51b03d64",
   "metadata": {},
   "outputs": [
    {
     "data": {
      "text/html": [
       "<div>\n",
       "<style scoped>\n",
       "    .dataframe tbody tr th:only-of-type {\n",
       "        vertical-align: middle;\n",
       "    }\n",
       "\n",
       "    .dataframe tbody tr th {\n",
       "        vertical-align: top;\n",
       "    }\n",
       "\n",
       "    .dataframe thead th {\n",
       "        text-align: right;\n",
       "    }\n",
       "</style>\n",
       "<table border=\"1\" class=\"dataframe\">\n",
       "  <thead>\n",
       "    <tr style=\"text-align: right;\">\n",
       "      <th></th>\n",
       "      <th>0</th>\n",
       "      <th>1</th>\n",
       "      <th>2</th>\n",
       "      <th>3</th>\n",
       "      <th>4</th>\n",
       "      <th>5</th>\n",
       "      <th>6</th>\n",
       "      <th>7</th>\n",
       "      <th>8</th>\n",
       "      <th>9</th>\n",
       "      <th>...</th>\n",
       "      <th>20</th>\n",
       "      <th>21</th>\n",
       "      <th>22</th>\n",
       "      <th>23</th>\n",
       "      <th>24</th>\n",
       "      <th>25</th>\n",
       "      <th>26</th>\n",
       "      <th>27</th>\n",
       "      <th>28</th>\n",
       "      <th>29</th>\n",
       "    </tr>\n",
       "  </thead>\n",
       "  <tbody>\n",
       "    <tr>\n",
       "      <th>0</th>\n",
       "      <td>1.0</td>\n",
       "      <td>0.0</td>\n",
       "      <td>0.464789</td>\n",
       "      <td>0.385075</td>\n",
       "      <td>0.215867</td>\n",
       "      <td>0.0</td>\n",
       "      <td>0.0</td>\n",
       "      <td>0.0</td>\n",
       "      <td>0.0</td>\n",
       "      <td>0.0</td>\n",
       "      <td>...</td>\n",
       "      <td>0.0</td>\n",
       "      <td>0.0</td>\n",
       "      <td>0.0</td>\n",
       "      <td>0.0</td>\n",
       "      <td>1.0</td>\n",
       "      <td>0.0</td>\n",
       "      <td>0.0</td>\n",
       "      <td>0.0</td>\n",
       "      <td>0.0</td>\n",
       "      <td>1.0</td>\n",
       "    </tr>\n",
       "    <tr>\n",
       "      <th>1</th>\n",
       "      <td>1.0</td>\n",
       "      <td>0.0</td>\n",
       "      <td>0.014085</td>\n",
       "      <td>0.354229</td>\n",
       "      <td>0.010310</td>\n",
       "      <td>0.0</td>\n",
       "      <td>0.0</td>\n",
       "      <td>0.0</td>\n",
       "      <td>0.0</td>\n",
       "      <td>0.0</td>\n",
       "      <td>...</td>\n",
       "      <td>0.0</td>\n",
       "      <td>0.0</td>\n",
       "      <td>0.0</td>\n",
       "      <td>0.0</td>\n",
       "      <td>0.0</td>\n",
       "      <td>0.0</td>\n",
       "      <td>1.0</td>\n",
       "      <td>0.0</td>\n",
       "      <td>0.0</td>\n",
       "      <td>1.0</td>\n",
       "    </tr>\n",
       "    <tr>\n",
       "      <th>2</th>\n",
       "      <td>0.0</td>\n",
       "      <td>0.0</td>\n",
       "      <td>0.014085</td>\n",
       "      <td>0.521891</td>\n",
       "      <td>0.015330</td>\n",
       "      <td>0.0</td>\n",
       "      <td>0.0</td>\n",
       "      <td>0.0</td>\n",
       "      <td>0.0</td>\n",
       "      <td>0.0</td>\n",
       "      <td>...</td>\n",
       "      <td>0.0</td>\n",
       "      <td>0.0</td>\n",
       "      <td>0.0</td>\n",
       "      <td>0.0</td>\n",
       "      <td>0.0</td>\n",
       "      <td>0.0</td>\n",
       "      <td>1.0</td>\n",
       "      <td>0.0</td>\n",
       "      <td>1.0</td>\n",
       "      <td>0.0</td>\n",
       "    </tr>\n",
       "    <tr>\n",
       "      <th>3</th>\n",
       "      <td>0.0</td>\n",
       "      <td>0.0</td>\n",
       "      <td>0.098592</td>\n",
       "      <td>0.809950</td>\n",
       "      <td>0.092511</td>\n",
       "      <td>0.0</td>\n",
       "      <td>0.0</td>\n",
       "      <td>0.0</td>\n",
       "      <td>0.0</td>\n",
       "      <td>1.0</td>\n",
       "      <td>...</td>\n",
       "      <td>0.0</td>\n",
       "      <td>1.0</td>\n",
       "      <td>0.0</td>\n",
       "      <td>1.0</td>\n",
       "      <td>0.0</td>\n",
       "      <td>0.0</td>\n",
       "      <td>1.0</td>\n",
       "      <td>0.0</td>\n",
       "      <td>1.0</td>\n",
       "      <td>0.0</td>\n",
       "    </tr>\n",
       "    <tr>\n",
       "      <th>4</th>\n",
       "      <td>1.0</td>\n",
       "      <td>0.0</td>\n",
       "      <td>0.295775</td>\n",
       "      <td>0.704975</td>\n",
       "      <td>0.222779</td>\n",
       "      <td>0.0</td>\n",
       "      <td>1.0</td>\n",
       "      <td>0.0</td>\n",
       "      <td>0.0</td>\n",
       "      <td>1.0</td>\n",
       "      <td>...</td>\n",
       "      <td>0.0</td>\n",
       "      <td>1.0</td>\n",
       "      <td>0.0</td>\n",
       "      <td>0.0</td>\n",
       "      <td>0.0</td>\n",
       "      <td>0.0</td>\n",
       "      <td>1.0</td>\n",
       "      <td>1.0</td>\n",
       "      <td>0.0</td>\n",
       "      <td>0.0</td>\n",
       "    </tr>\n",
       "  </tbody>\n",
       "</table>\n",
       "<p>5 rows × 30 columns</p>\n",
       "</div>"
      ],
      "text/plain": [
       "    0    1         2         3         4    5    6    7    8    9   ...   20  \\\n",
       "0  1.0  0.0  0.464789  0.385075  0.215867  0.0  0.0  0.0  0.0  0.0  ...  0.0   \n",
       "1  1.0  0.0  0.014085  0.354229  0.010310  0.0  0.0  0.0  0.0  0.0  ...  0.0   \n",
       "2  0.0  0.0  0.014085  0.521891  0.015330  0.0  0.0  0.0  0.0  0.0  ...  0.0   \n",
       "3  0.0  0.0  0.098592  0.809950  0.092511  0.0  0.0  0.0  0.0  1.0  ...  0.0   \n",
       "4  1.0  0.0  0.295775  0.704975  0.222779  0.0  1.0  0.0  0.0  1.0  ...  0.0   \n",
       "\n",
       "    21   22   23   24   25   26   27   28   29  \n",
       "0  0.0  0.0  0.0  1.0  0.0  0.0  0.0  0.0  1.0  \n",
       "1  0.0  0.0  0.0  0.0  0.0  1.0  0.0  0.0  1.0  \n",
       "2  0.0  0.0  0.0  0.0  0.0  1.0  0.0  1.0  0.0  \n",
       "3  1.0  0.0  1.0  0.0  0.0  1.0  0.0  1.0  0.0  \n",
       "4  1.0  0.0  0.0  0.0  0.0  1.0  1.0  0.0  0.0  \n",
       "\n",
       "[5 rows x 30 columns]"
      ]
     },
     "execution_count": 8,
     "metadata": {},
     "output_type": "execute_result"
    }
   ],
   "source": [
    "X.head()"
   ]
  },
  {
   "cell_type": "markdown",
   "id": "19ef05b7",
   "metadata": {},
   "source": [
    "## Train — Test — Split"
   ]
  },
  {
   "cell_type": "code",
   "execution_count": 9,
   "id": "fefe03d7",
   "metadata": {},
   "outputs": [],
   "source": [
    "from sklearn.model_selection import train_test_split\n",
    "# split into train/test sets\n",
    "X_train, X_test, y_train, y_test = train_test_split(X, y, test_size=0.25, random_state=2)"
   ]
  },
  {
   "cell_type": "markdown",
   "id": "033bf3c8",
   "metadata": {},
   "source": [
    "# LogisticRegression"
   ]
  },
  {
   "cell_type": "code",
   "execution_count": 10,
   "id": "bf433243",
   "metadata": {},
   "outputs": [
    {
     "data": {
      "text/plain": [
       "LogisticRegression(solver='liblinear')"
      ]
     },
     "execution_count": 10,
     "metadata": {},
     "output_type": "execute_result"
    }
   ],
   "source": [
    "from sklearn.linear_model import LogisticRegression\n",
    "# Instantiate a logistic regression model without an intercept, arbitrarily large C value will offset the lack of intercept\n",
    "logreg = LogisticRegression(solver = 'liblinear')\n",
    "# Fit the model to our X and y training sets\n",
    "logreg.fit(X_train, y_train)"
   ]
  },
  {
   "cell_type": "code",
   "execution_count": 11,
   "id": "503c6d4e",
   "metadata": {},
   "outputs": [],
   "source": [
    "# predict future values\n",
    "y_hat_train = logreg.predict(X_train)\n",
    "y_hat_test = logreg.predict(X_test)"
   ]
  },
  {
   "cell_type": "markdown",
   "id": "4bbff1e7",
   "metadata": {},
   "source": [
    "## Evaluating Model Performance"
   ]
  },
  {
   "cell_type": "markdown",
   "id": "0f752e5b",
   "metadata": {},
   "source": [
    "### Confusion Matrix"
   ]
  },
  {
   "cell_type": "code",
   "execution_count": 12,
   "id": "7c73a166",
   "metadata": {},
   "outputs": [],
   "source": [
    "from sklearn.metrics import confusion_matrix\n",
    "# Pass actual test and predicted target test outcomes to function\n",
    "cnf_matrix_train = confusion_matrix(y_train, y_hat_train)\n",
    "cnf_matrix_test = confusion_matrix(y_test, y_hat_test)"
   ]
  },
  {
   "cell_type": "code",
   "execution_count": 13,
   "id": "8e63f3a9",
   "metadata": {},
   "outputs": [
    {
     "name": "stdout",
     "output_type": "stream",
     "text": [
      "[[2907  336]\n",
      " [ 532  632]]\n"
     ]
    }
   ],
   "source": [
    "print(cnf_matrix_train)"
   ]
  },
  {
   "cell_type": "code",
   "execution_count": 14,
   "id": "d154c59b",
   "metadata": {},
   "outputs": [
    {
     "name": "stdout",
     "output_type": "stream",
     "text": [
      "[[984  89]\n",
      " [186 211]]\n"
     ]
    }
   ],
   "source": [
    "print(cnf_matrix_test)"
   ]
  },
  {
   "cell_type": "markdown",
   "id": "3a0b9681",
   "metadata": {},
   "source": [
    "### Classification Report"
   ]
  },
  {
   "cell_type": "code",
   "execution_count": 15,
   "id": "90cfc721",
   "metadata": {},
   "outputs": [],
   "source": [
    "from sklearn.metrics import classification_report\n",
    "report_train = classification_report(y_train, y_hat_train)\n",
    "report_test = classification_report(y_test, y_hat_test)"
   ]
  },
  {
   "cell_type": "code",
   "execution_count": 16,
   "id": "163b8b21",
   "metadata": {},
   "outputs": [
    {
     "name": "stdout",
     "output_type": "stream",
     "text": [
      "              precision    recall  f1-score   support\n",
      "\n",
      "           0       0.85      0.90      0.87      3243\n",
      "           1       0.65      0.54      0.59      1164\n",
      "\n",
      "    accuracy                           0.80      4407\n",
      "   macro avg       0.75      0.72      0.73      4407\n",
      "weighted avg       0.79      0.80      0.80      4407\n",
      "\n"
     ]
    }
   ],
   "source": [
    "print(report_train)"
   ]
  },
  {
   "cell_type": "code",
   "execution_count": 17,
   "id": "dd341f87",
   "metadata": {},
   "outputs": [
    {
     "name": "stdout",
     "output_type": "stream",
     "text": [
      "              precision    recall  f1-score   support\n",
      "\n",
      "           0       0.84      0.92      0.88      1073\n",
      "           1       0.70      0.53      0.61       397\n",
      "\n",
      "    accuracy                           0.81      1470\n",
      "   macro avg       0.77      0.72      0.74      1470\n",
      "weighted avg       0.80      0.81      0.80      1470\n",
      "\n"
     ]
    }
   ],
   "source": [
    "print(report_test)"
   ]
  },
  {
   "cell_type": "markdown",
   "id": "6b4b3b0d",
   "metadata": {},
   "source": [
    "### AUC - Area Under Curve"
   ]
  },
  {
   "cell_type": "code",
   "execution_count": 18,
   "id": "ee1fe96b",
   "metadata": {},
   "outputs": [],
   "source": [
    "from sklearn.metrics import roc_auc_score\n",
    "# predict probabilities\n",
    "lr_probs = logreg.predict_proba(X_test)\n",
    "# keep probabilities for the positive outcome only\n",
    "lr_probs = lr_probs[:, 1]"
   ]
  },
  {
   "cell_type": "code",
   "execution_count": 19,
   "id": "74c61da3",
   "metadata": {},
   "outputs": [
    {
     "name": "stdout",
     "output_type": "stream",
     "text": [
      "Logistic: ROC AUC=0.860\n"
     ]
    }
   ],
   "source": [
    "# calculate AUC\n",
    "lr_auc = roc_auc_score(y_test, lr_probs)\n",
    "print('Logistic: ROC AUC=%.3f' % (lr_auc))"
   ]
  },
  {
   "cell_type": "code",
   "execution_count": 20,
   "id": "54a4a8de",
   "metadata": {},
   "outputs": [],
   "source": [
    "from sklearn.metrics import roc_curve, auc\n",
    "# Calculate fpr, tpr, and thresholds for test set\n",
    "test_fpr, test_tpr, test_thresholds = roc_curve(y_test, lr_probs)"
   ]
  },
  {
   "cell_type": "code",
   "execution_count": 21,
   "id": "5ef47f2c",
   "metadata": {
    "scrolled": true
   },
   "outputs": [
    {
     "data": {
      "image/png": "[encoded data removed]",
      "text/plain": [
       "<Figure size 432x288 with 1 Axes>"
      ]
     },
     "metadata": {
      "needs_background": "light"
     },
     "output_type": "display_data"
    }
   ],
   "source": [
    "from matplotlib import pyplot\n",
    "# plot the roc curve for the model\n",
    "pyplot.plot(test_fpr, test_tpr, marker='.', label='Logistic')\n",
    "# axis labels\n",
    "pyplot.xlabel('False Positive Rate')\n",
    "pyplot.ylabel('True Positive Rate')\n",
    "# show the legend\n",
    "pyplot.legend()\n",
    "# show the plot\n",
    "pyplot.show()"
   ]
  },
  {
   "cell_type": "markdown",
   "id": "ca08df04",
   "metadata": {},
   "source": [
    "### Tune Hyperparameters"
   ]
  },
  {
   "cell_type": "code",
   "execution_count": 22,
   "id": "70f9f284",
   "metadata": {},
   "outputs": [
    {
     "name": "stdout",
     "output_type": "stream",
     "text": [
      "Best: 0.805743 using {'C': 100, 'penalty': 'l2', 'solver': 'lbfgs'}\n",
      "0.805686 (0.015618) with: {'C': 100, 'penalty': 'l2', 'solver': 'newton-cg'}\n",
      "0.805743 (0.015635) with: {'C': 100, 'penalty': 'l2', 'solver': 'lbfgs'}\n",
      "0.805686 (0.015532) with: {'C': 100, 'penalty': 'l2', 'solver': 'liblinear'}\n",
      "0.805402 (0.015112) with: {'C': 10, 'penalty': 'l2', 'solver': 'newton-cg'}\n",
      "0.805402 (0.015112) with: {'C': 10, 'penalty': 'l2', 'solver': 'lbfgs'}\n",
      "0.805402 (0.015111) with: {'C': 10, 'penalty': 'l2', 'solver': 'liblinear'}\n",
      "0.803871 (0.014697) with: {'C': 1.0, 'penalty': 'l2', 'solver': 'newton-cg'}\n",
      "0.803871 (0.014697) with: {'C': 1.0, 'penalty': 'l2', 'solver': 'lbfgs'}\n",
      "0.803928 (0.014968) with: {'C': 1.0, 'penalty': 'l2', 'solver': 'liblinear'}\n",
      "0.803304 (0.014753) with: {'C': 0.1, 'penalty': 'l2', 'solver': 'newton-cg'}\n",
      "0.803304 (0.014753) with: {'C': 0.1, 'penalty': 'l2', 'solver': 'lbfgs'}\n",
      "0.803020 (0.014678) with: {'C': 0.1, 'penalty': 'l2', 'solver': 'liblinear'}\n",
      "0.795534 (0.014659) with: {'C': 0.01, 'penalty': 'l2', 'solver': 'newton-cg'}\n",
      "0.795534 (0.014659) with: {'C': 0.01, 'penalty': 'l2', 'solver': 'lbfgs'}\n",
      "0.796781 (0.015025) with: {'C': 0.01, 'penalty': 'l2', 'solver': 'liblinear'}\n"
     ]
    }
   ],
   "source": [
    "from sklearn.datasets import make_blobs\n",
    "from sklearn.model_selection import RepeatedStratifiedKFold\n",
    "from sklearn.model_selection import GridSearchCV\n",
    "model = LogisticRegression()\n",
    "solvers = ['newton-cg', 'lbfgs', 'liblinear']\n",
    "penalty = ['l2']\n",
    "c_values = [100, 10, 1.0, 0.1, 0.01]\n",
    "# define grid search\n",
    "grid = dict(solver=solvers,penalty=penalty,C=c_values)\n",
    "cv = RepeatedStratifiedKFold(n_splits=10, n_repeats=3, random_state=1)\n",
    "grid_search = GridSearchCV(estimator=model, param_grid=grid, n_jobs=-1, cv=cv, scoring='accuracy',error_score=0)\n",
    "grid_result = grid_search.fit(X, y)\n",
    "# summarize results\n",
    "print(\"Best: %f using %s\" % (grid_result.best_score_, grid_result.best_params_))\n",
    "means = grid_result.cv_results_['mean_test_score']\n",
    "stds = grid_result.cv_results_['std_test_score']\n",
    "params = grid_result.cv_results_['params']\n",
    "for mean, stdev, param in zip(means, stds, params):\n",
    "    print(\"%f (%f) with: %r\" % (mean, stdev, param))"
   ]
  },
  {
   "cell_type": "markdown",
   "id": "bd8f0e39",
   "metadata": {},
   "source": [
    "## LogisticRegression with best hyperparameters"
   ]
  },
  {
   "cell_type": "code",
   "execution_count": 23,
   "id": "fd087309",
   "metadata": {},
   "outputs": [
    {
     "data": {
      "text/plain": [
       "LogisticRegression(C=100)"
      ]
     },
     "execution_count": 23,
     "metadata": {},
     "output_type": "execute_result"
    }
   ],
   "source": [
    "logreg_best = LogisticRegression(C=100, penalty='l2', solver = 'lbfgs')\n",
    "logreg_best.fit(X_train, y_train)"
   ]
  },
  {
   "cell_type": "code",
   "execution_count": 24,
   "id": "759aa184",
   "metadata": {},
   "outputs": [],
   "source": [
    "# predict future values\n",
    "y_hat_test_best = logreg_best.predict(X_test)"
   ]
  },
  {
   "cell_type": "markdown",
   "id": "3538ccfc",
   "metadata": {},
   "source": [
    "### Confusion Matrix"
   ]
  },
  {
   "cell_type": "code",
   "execution_count": 25,
   "id": "287c1bb5",
   "metadata": {},
   "outputs": [],
   "source": [
    "from sklearn.metrics import confusion_matrix\n",
    "# Pass actual test and predicted target test outcomes to function\n",
    "cnf_matrix_test_best = confusion_matrix(y_test, y_hat_test_best)"
   ]
  },
  {
   "cell_type": "code",
   "execution_count": 26,
   "id": "0fada47d",
   "metadata": {},
   "outputs": [
    {
     "name": "stdout",
     "output_type": "stream",
     "text": [
      "[[988  85]\n",
      " [181 216]]\n"
     ]
    }
   ],
   "source": [
    "print(cnf_matrix_test_best)"
   ]
  },
  {
   "cell_type": "markdown",
   "id": "3009e0da",
   "metadata": {},
   "source": [
    "### Classification Report"
   ]
  },
  {
   "cell_type": "code",
   "execution_count": 27,
   "id": "30ea0715",
   "metadata": {},
   "outputs": [],
   "source": [
    "report_test_best = classification_report(y_test, y_hat_test_best)"
   ]
  },
  {
   "cell_type": "code",
   "execution_count": 28,
   "id": "3a8098e3",
   "metadata": {},
   "outputs": [
    {
     "name": "stdout",
     "output_type": "stream",
     "text": [
      "              precision    recall  f1-score   support\n",
      "\n",
      "           0       0.85      0.92      0.88      1073\n",
      "           1       0.72      0.54      0.62       397\n",
      "\n",
      "    accuracy                           0.82      1470\n",
      "   macro avg       0.78      0.73      0.75      1470\n",
      "weighted avg       0.81      0.82      0.81      1470\n",
      "\n"
     ]
    }
   ],
   "source": [
    "print(report_test_best)"
   ]
  },
  {
   "cell_type": "code",
   "execution_count": 29,
   "id": "34029b77",
   "metadata": {},
   "outputs": [
    {
     "name": "stdout",
     "output_type": "stream",
     "text": [
      "              precision    recall  f1-score   support\n",
      "\n",
      "           0       0.84      0.92      0.88      1073\n",
      "           1       0.70      0.53      0.61       397\n",
      "\n",
      "    accuracy                           0.81      1470\n",
      "   macro avg       0.77      0.72      0.74      1470\n",
      "weighted avg       0.80      0.81      0.80      1470\n",
      "\n"
     ]
    }
   ],
   "source": [
    "print(report_test)"
   ]
  },
  {
   "cell_type": "markdown",
   "id": "26e28083",
   "metadata": {},
   "source": [
    "### AUC - Area Under Curve"
   ]
  },
  {
   "cell_type": "code",
   "execution_count": 30,
   "id": "aa7a2b01",
   "metadata": {},
   "outputs": [],
   "source": [
    "from sklearn.metrics import roc_auc_score\n",
    "# predict probabilities\n",
    "lr_probs = logreg.predict_proba(X_test)\n",
    "lr_probs_best = logreg_best.predict_proba(X_test)\n",
    "# keep probabilities for the positive outcome only\n",
    "lr_probs = lr_probs[:, 1]\n",
    "lr_probs_best = lr_probs_best[:, 1]"
   ]
  },
  {
   "cell_type": "code",
   "execution_count": 31,
   "id": "e627d913",
   "metadata": {},
   "outputs": [
    {
     "name": "stdout",
     "output_type": "stream",
     "text": [
      "Logistic: ROC AUC=0.860\n"
     ]
    }
   ],
   "source": [
    "# calculate best AUC\n",
    "lr_auc = roc_auc_score(y_test, lr_probs)\n",
    "print('Logistic: ROC AUC=%.3f' % (lr_auc))"
   ]
  },
  {
   "cell_type": "code",
   "execution_count": 32,
   "id": "f8a46bb2",
   "metadata": {},
   "outputs": [
    {
     "name": "stdout",
     "output_type": "stream",
     "text": [
      "Logistic: ROC AUC_best=0.861\n"
     ]
    }
   ],
   "source": [
    "# calculate best AUC\n",
    "lr_auc_best = roc_auc_score(y_test, lr_probs_best)\n",
    "print('Logistic: ROC AUC_best=%.3f' % (lr_auc_best))"
   ]
  },
  {
   "cell_type": "code",
   "execution_count": 33,
   "id": "983b9b92",
   "metadata": {},
   "outputs": [],
   "source": [
    "from sklearn.metrics import roc_curve, auc\n",
    "# Calculate fpr, tpr, and thresholds for test set\n",
    "test_fpr_best, test_tpr_best, test_thresholds_best = roc_curve(y_test, lr_probs_best)"
   ]
  },
  {
   "cell_type": "code",
   "execution_count": 34,
   "id": "1433ace8",
   "metadata": {
    "scrolled": true
   },
   "outputs": [
    {
     "data": {
      "image/png": "[encoded data removed]",
      "text/plain": [
       "<Figure size 432x288 with 1 Axes>"
      ]
     },
     "metadata": {
      "needs_background": "light"
     },
     "output_type": "display_data"
    }
   ],
   "source": [
    "from matplotlib import pyplot\n",
    "# plot the roc curve for the model\n",
    "pyplot.plot(test_fpr, test_tpr, marker='.', label='Logistic')\n",
    "pyplot.plot(test_fpr_best, test_tpr_best, marker='*', label='Logistic_bes')\n",
    "# axis labels\n",
    "pyplot.xlabel('False Positive Rate')\n",
    "pyplot.ylabel('True Positive Rate')\n",
    "# show the legend\n",
    "pyplot.legend()\n",
    "# show the plot\n",
    "pyplot.show()"
   ]
  },
  {
   "cell_type": "markdown",
   "id": "005e136f",
   "metadata": {},
   "source": [
    "# K-Nearest Neighbors (KNN)"
   ]
  },
  {
   "cell_type": "code",
   "execution_count": null,
   "id": "232df51f",
   "metadata": {},
   "outputs": [],
   "source": [
    "# Grid searching the key hyperparameters\n",
    "from sklearn.neighbors import KNeighborsClassifier\n",
    "# define dataset\n",
    "model = KNeighborsClassifier()\n",
    "n_neighbors = range(1, 21, 2)\n",
    "weights = ['uniform', 'distance']\n",
    "metric = ['euclidean', 'manhattan', 'minkowski']\n",
    "# define grid search\n",
    "grid = dict(n_neighbors=n_neighbors,weights=weights,metric=metric)\n",
    "cv = RepeatedStratifiedKFold(n_splits=10, n_repeats=3, random_state=1)\n",
    "grid_search = GridSearchCV(estimator=model, param_grid=grid, n_jobs=-1, cv=cv, scoring='accuracy',error_score=0)\n",
    "grid_result = grid_search.fit(X, y)\n",
    "# summarize results\n",
    "print(\"Best: %f using %s\" % (grid_result.best_score_, grid_result.best_params_))\n",
    "means = grid_result.cv_results_['mean_test_score']\n",
    "stds = grid_result.cv_results_['std_test_score']\n",
    "params = grid_result.cv_results_['params']\n",
    "for mean, stdev, param in zip(means, stds, params):\n",
    "    print(\"%f (%f) with: %r\" % (mean, stdev, param))\n"
   ]
  },
  {
   "cell_type": "markdown",
   "id": "e4902366",
   "metadata": {},
   "source": [
    "## K-Nearest Neighbors (KNN) with best hyperparameters"
   ]
  },
  {
   "cell_type": "code",
   "execution_count": null,
   "id": "4a5ac78f",
   "metadata": {},
   "outputs": [],
   "source": [
    "knn_best = KNeighborsClassifier(metric='manhattan' , n_neighbors=19, weights='uniform')\n",
    "knn_best.fit(X_train, y_train)"
   ]
  },
  {
   "cell_type": "code",
   "execution_count": null,
   "id": "06b3298d",
   "metadata": {},
   "outputs": [],
   "source": [
    "# predict future values\n",
    "knn_y_hat_test_best = knn_best.predict(X_test)"
   ]
  },
  {
   "cell_type": "markdown",
   "id": "a2debde2",
   "metadata": {},
   "source": [
    "## Confusion Matrix - KNN"
   ]
  },
  {
   "cell_type": "code",
   "execution_count": null,
   "id": "532c5f44",
   "metadata": {},
   "outputs": [],
   "source": [
    "from sklearn.metrics import confusion_matrix\n",
    "# Pass actual test and predicted target test outcomes to function\n",
    "knn_cnf_matrix_test_best = confusion_matrix(y_test, knn_y_hat_test_best)"
   ]
  },
  {
   "cell_type": "code",
   "execution_count": null,
   "id": "b426597d",
   "metadata": {},
   "outputs": [],
   "source": [
    "print(knn_cnf_matrix_test_best)"
   ]
  },
  {
   "cell_type": "markdown",
   "id": "c324917d",
   "metadata": {},
   "source": [
    "## Classification Report - KNN"
   ]
  },
  {
   "cell_type": "code",
   "execution_count": null,
   "id": "3982a702",
   "metadata": {},
   "outputs": [],
   "source": [
    "knn_report_test_best = classification_report(y_test, knn_y_hat_test_best)"
   ]
  },
  {
   "cell_type": "code",
   "execution_count": null,
   "id": "424f9079",
   "metadata": {},
   "outputs": [],
   "source": [
    "print(knn_report_test_best)"
   ]
  },
  {
   "cell_type": "markdown",
   "id": "f6ef79ca",
   "metadata": {},
   "source": [
    "## AUC - Area Under Curve - KNN"
   ]
  },
  {
   "cell_type": "code",
   "execution_count": null,
   "id": "9f1fb11d",
   "metadata": {},
   "outputs": [],
   "source": [
    "from sklearn.metrics import roc_auc_score\n",
    "# predict probabilities\n",
    "knn_probs_best = knn_best.predict_proba(X_test)\n",
    "# keep probabilities for the positive outcome only\n",
    "knn_probs_best = knn_probs_best[:, 1]"
   ]
  },
  {
   "cell_type": "code",
   "execution_count": null,
   "id": "6a1b8b5a",
   "metadata": {},
   "outputs": [],
   "source": [
    "# calculate best AUC\n",
    "knn_auc_best = roc_auc_score(y_test, knn_probs_best)\n",
    "print('Logistic: ROC AUC_best=%.3f' % (knn_auc_best))"
   ]
  },
  {
   "cell_type": "code",
   "execution_count": null,
   "id": "5838245c",
   "metadata": {},
   "outputs": [],
   "source": [
    "from sklearn.metrics import roc_curve, auc\n",
    "# Calculate fpr, tpr, and thresholds for test set\n",
    "knn_test_fpr_best, knn_test_tpr_best, knn_test_thresholds_best = roc_curve(y_test, knn_probs_best)"
   ]
  },
  {
   "cell_type": "code",
   "execution_count": null,
   "id": "755bf227",
   "metadata": {
    "scrolled": false
   },
   "outputs": [],
   "source": [
    "from matplotlib import pyplot\n",
    "# plot the roc curve for the model\n",
    "pyplot.plot(knn_test_fpr_best, knn_test_tpr_best, marker='*', label='knn_best')\n",
    "# axis labels\n",
    "pyplot.xlabel('False Positive Rate')\n",
    "pyplot.ylabel('True Positive Rate')\n",
    "# show the legend\n",
    "pyplot.legend()\n",
    "# show the plot\n",
    "pyplot.show()"
   ]
  },
  {
   "cell_type": "markdown",
   "id": "22907782",
   "metadata": {},
   "source": [
    "# Random Forest Classifier"
   ]
  },
  {
   "cell_type": "code",
   "execution_count": null,
   "id": "5ad85f9a",
   "metadata": {},
   "outputs": [],
   "source": [
    "from sklearn.ensemble import RandomForestClassifier\n",
    "# define models and parameters\n",
    "model = RandomForestClassifier()\n",
    "n_estimators = [10, 100, 1000]\n",
    "max_features = ['sqrt', 'log2']\n",
    "# define grid search\n",
    "grid = dict(n_estimators=n_estimators,max_features=max_features)\n",
    "cv = RepeatedStratifiedKFold(n_splits=10, n_repeats=3, random_state=1)\n",
    "grid_search = GridSearchCV(estimator=model, param_grid=grid, n_jobs=-1, cv=cv, scoring='accuracy',error_score=0)\n",
    "grid_result = grid_search.fit(X, y)\n",
    "# summarize results\n",
    "print(\"Best: %f using %s\" % (grid_result.best_score_, grid_result.best_params_))\n",
    "means = grid_result.cv_results_['mean_test_score']\n",
    "stds = grid_result.cv_results_['std_test_score']\n",
    "params = grid_result.cv_results_['params']\n",
    "for mean, stdev, param in zip(means, stds, params):\n",
    "    print(\"%f (%f) with: %r\" % (mean, stdev, param))\n"
   ]
  },
  {
   "cell_type": "markdown",
   "id": "238c01c1",
   "metadata": {},
   "source": [
    "## Random Forest Classifier with best hyperparameters"
   ]
  },
  {
   "cell_type": "code",
   "execution_count": null,
   "id": "78828ab7",
   "metadata": {},
   "outputs": [],
   "source": [
    "from sklearn.ensemble import RandomForestClassifier\n",
    "rfc_best = RandomForestClassifier(max_features='log2', n_estimators= 1000)\n",
    "rfc_best.fit(X_train, y_train)"
   ]
  },
  {
   "cell_type": "code",
   "execution_count": null,
   "id": "669bbf3c",
   "metadata": {},
   "outputs": [],
   "source": [
    "# predict future values\n",
    "rfc_y_hat_test_best = rfc_best.predict(X_test)"
   ]
  },
  {
   "cell_type": "markdown",
   "id": "16ad22e3",
   "metadata": {},
   "source": [
    "## Confusion Matrix - RFC"
   ]
  },
  {
   "cell_type": "code",
   "execution_count": null,
   "id": "668f6e34",
   "metadata": {},
   "outputs": [],
   "source": [
    "# Pass actual test and predicted target test outcomes to function\n",
    "rfc_cnf_matrix_test_best = confusion_matrix(y_test, rfc_y_hat_test_best)"
   ]
  },
  {
   "cell_type": "code",
   "execution_count": null,
   "id": "3dd69d55",
   "metadata": {},
   "outputs": [],
   "source": [
    "print(rfc_cnf_matrix_test_best)"
   ]
  },
  {
   "cell_type": "markdown",
   "id": "3af48f8e",
   "metadata": {},
   "source": [
    "## Classification Report - RFC"
   ]
  },
  {
   "cell_type": "code",
   "execution_count": null,
   "id": "aabe4352",
   "metadata": {},
   "outputs": [],
   "source": [
    "rfc_report_test_best = classification_report(y_test, rfc_y_hat_test_best)"
   ]
  },
  {
   "cell_type": "code",
   "execution_count": null,
   "id": "0586ef40",
   "metadata": {
    "scrolled": true
   },
   "outputs": [],
   "source": [
    "print(rfc_report_test_best)"
   ]
  },
  {
   "cell_type": "markdown",
   "id": "b2ed90e6",
   "metadata": {},
   "source": [
    "## AUC - Area Under Curve - RCF"
   ]
  },
  {
   "cell_type": "code",
   "execution_count": null,
   "id": "ec00f82b",
   "metadata": {},
   "outputs": [],
   "source": [
    "# predict probabilities\n",
    "rfc_probs_best = rfc_best.predict_proba(X_test)\n",
    "# keep probabilities for the positive outcome only\n",
    "rfc_probs_best = rfc_probs_best[:, 1]"
   ]
  },
  {
   "cell_type": "code",
   "execution_count": null,
   "id": "bc7f6e00",
   "metadata": {},
   "outputs": [],
   "source": [
    "# calculate best AUC\n",
    "rfc_auc_best = roc_auc_score(y_test, rfc_probs_best)\n",
    "print('Logistic: ROC AUC_best=%.3f' % (rfc_auc_best))"
   ]
  },
  {
   "cell_type": "code",
   "execution_count": null,
   "id": "8e4ca773",
   "metadata": {},
   "outputs": [],
   "source": [
    "# Calculate fpr, tpr, and thresholds for test set\n",
    "rfc_test_fpr_best, rfc_test_tpr_best, rfc_test_thresholds_best = roc_curve(y_test, rfc_probs_best)"
   ]
  },
  {
   "cell_type": "code",
   "execution_count": null,
   "id": "7c3e5974",
   "metadata": {
    "scrolled": false
   },
   "outputs": [],
   "source": [
    "# plot the roc curve for the model\n",
    "pyplot.plot(rfc_test_fpr_best, rfc_test_tpr_best, marker='*', label='rfc_best')\n",
    "# axis labels\n",
    "pyplot.xlabel('False Positive Rate')\n",
    "pyplot.ylabel('True Positive Rate')\n",
    "# show the legend\n",
    "pyplot.legend()\n",
    "# show the plot\n",
    "pyplot.show()"
   ]
  },
  {
   "cell_type": "markdown",
   "id": "a8722180",
   "metadata": {},
   "source": [
    "# Stochastic Gradient Boosting - XGBoost"
   ]
  },
  {
   "cell_type": "code",
   "execution_count": null,
   "id": "6d847d4c",
   "metadata": {},
   "outputs": [],
   "source": [
    "from sklearn.ensemble import GradientBoostingClassifier\n",
    "model = GradientBoostingClassifier()\n",
    "n_estimators = [10, 100, 1000]\n",
    "learning_rate = [0.001, 0.01, 0.1]\n",
    "subsample = [0.5, 0.7, 1.0]\n",
    "max_depth = [3, 7, 9]\n",
    "# define grid search\n",
    "grid = dict(learning_rate=learning_rate, n_estimators=n_estimators, subsample=subsample, max_depth=max_depth)\n",
    "cv = RepeatedStratifiedKFold(n_splits=10, n_repeats=3, random_state=1)\n",
    "grid_search = GridSearchCV(estimator=model, param_grid=grid, n_jobs=-1, cv=cv, scoring='accuracy',error_score=0)\n",
    "grid_result = grid_search.fit(X, y)\n",
    "# summarize results\n",
    "print(\"Best: %f using %s\" % (grid_result.best_score_, grid_result.best_params_))\n",
    "means = grid_result.cv_results_['mean_test_score']\n",
    "stds = grid_result.cv_results_['std_test_score']\n",
    "params = grid_result.cv_results_['params']\n",
    "for mean, stdev, param in zip(means, stds, params):\n",
    "    print(\"%f (%f) with: %r\" % (mean, stdev, param))"
   ]
  },
  {
   "cell_type": "markdown",
   "id": "a44bc53b",
   "metadata": {},
   "source": [
    "## Stochastic Gradient Boosting with best hyperparameters"
   ]
  },
  {
   "cell_type": "code",
   "execution_count": 35,
   "id": "61be1463",
   "metadata": {},
   "outputs": [
    {
     "data": {
      "text/plain": [
       "GradientBoostingClassifier(learning_rate=0.01, n_estimators=1000, subsample=0.7)"
      ]
     },
     "execution_count": 35,
     "metadata": {},
     "output_type": "execute_result"
    }
   ],
   "source": [
    "from sklearn.ensemble import GradientBoostingClassifier\n",
    "xgb_best = GradientBoostingClassifier(learning_rate=0.01, max_depth=3, n_estimators=1000, subsample= 0.7)\n",
    "xgb_best.fit(X_train, y_train)"
   ]
  },
  {
   "cell_type": "code",
   "execution_count": 36,
   "id": "5e49ed68",
   "metadata": {},
   "outputs": [],
   "source": [
    "# predict future values\n",
    "xgb_y_hat_test_best = xgb_best.predict(X_test)"
   ]
  },
  {
   "cell_type": "markdown",
   "id": "463b14d8",
   "metadata": {},
   "source": [
    "## Confusion Matrix - XGB"
   ]
  },
  {
   "cell_type": "code",
   "execution_count": 37,
   "id": "30577c95",
   "metadata": {},
   "outputs": [],
   "source": [
    "# Pass actual test and predicted target test outcomes to function\n",
    "xgb_cnf_matrix_test_best = confusion_matrix(y_test, xgb_y_hat_test_best)"
   ]
  },
  {
   "cell_type": "code",
   "execution_count": 38,
   "id": "4d9dad96",
   "metadata": {},
   "outputs": [
    {
     "name": "stdout",
     "output_type": "stream",
     "text": [
      "[[982  91]\n",
      " [188 209]]\n"
     ]
    }
   ],
   "source": [
    "print(xgb_cnf_matrix_test_best)"
   ]
  },
  {
   "cell_type": "markdown",
   "id": "a3662b14",
   "metadata": {},
   "source": [
    "## Classification Report - XGB"
   ]
  },
  {
   "cell_type": "code",
   "execution_count": 39,
   "id": "0f03408e",
   "metadata": {},
   "outputs": [],
   "source": [
    "xgb_report_test_best = classification_report(y_test, xgb_y_hat_test_best)"
   ]
  },
  {
   "cell_type": "code",
   "execution_count": 40,
   "id": "6b5c1338",
   "metadata": {
    "scrolled": true
   },
   "outputs": [
    {
     "name": "stdout",
     "output_type": "stream",
     "text": [
      "              precision    recall  f1-score   support\n",
      "\n",
      "           0       0.84      0.92      0.88      1073\n",
      "           1       0.70      0.53      0.60       397\n",
      "\n",
      "    accuracy                           0.81      1470\n",
      "   macro avg       0.77      0.72      0.74      1470\n",
      "weighted avg       0.80      0.81      0.80      1470\n",
      "\n"
     ]
    }
   ],
   "source": [
    "print(xgb_report_test_best)"
   ]
  },
  {
   "cell_type": "markdown",
   "id": "77c99650",
   "metadata": {},
   "source": [
    "## AUC - Area Under Curve - XGB"
   ]
  },
  {
   "cell_type": "code",
   "execution_count": null,
   "id": "b948592a",
   "metadata": {},
   "outputs": [],
   "source": [
    "# predict probabilities\n",
    "xgb_probs_best = xgb_best.predict_proba(X_test)\n",
    "# keep probabilities for the positive outcome only\n",
    "xgb_probs_best = xgb_probs_best[:, 1]"
   ]
  },
  {
   "cell_type": "code",
   "execution_count": null,
   "id": "81a02ffe",
   "metadata": {},
   "outputs": [],
   "source": [
    "# calculate best AUC\n",
    "xgb_auc_best = roc_auc_score(y_test, xgb_probs_best)\n",
    "print('Logistic: ROC AUC_best=%.3f' % (xgb_auc_best))"
   ]
  },
  {
   "cell_type": "code",
   "execution_count": null,
   "id": "14c23b02",
   "metadata": {},
   "outputs": [],
   "source": [
    "# Calculate fpr, tpr, and thresholds for test set\n",
    "xgb_test_fpr_best, xgb_test_tpr_best, xgb_test_thresholds_best = roc_curve(y_test, xgb_probs_best)"
   ]
  },
  {
   "cell_type": "code",
   "execution_count": null,
   "id": "6e928a2b",
   "metadata": {
    "scrolled": false
   },
   "outputs": [],
   "source": [
    "# plot the roc curve for the model\n",
    "pyplot.plot(xgb_test_fpr_best, xgb_test_tpr_best, marker='*', label='xgb_best')\n",
    "# axis labels\n",
    "pyplot.xlabel('False Positive Rate')\n",
    "pyplot.ylabel('True Positive Rate')\n",
    "# show the legend\n",
    "pyplot.legend()\n",
    "# show the plot\n",
    "pyplot.show()"
   ]
  },
  {
   "cell_type": "code",
   "execution_count": null,
   "id": "2a5249d3",
   "metadata": {},
   "outputs": [],
   "source": [
    "# https://machinelearningmastery.com/hyperparameters-for-classification-machine-learning-algorithms/\n",
    "#https://machinelearningmastery.com/roc-curves-and-precision-recall-curves-for-classification-in-python/"
   ]
  }
 ],
 "metadata": {
  "kernelspec": {
   "display_name": "Python 3",
   "language": "python",
   "name": "python3"
  },
  "language_info": {
   "codemirror_mode": {
    "name": "ipython",
    "version": 3
   },
   "file_extension": ".py",
   "mimetype": "text/x-python",
   "name": "python",
   "nbconvert_exporter": "python",
   "pygments_lexer": "ipython3",
   "version": "3.8.10"
  },
  "toc": {
   "base_numbering": 1,
   "nav_menu": {},
   "number_sections": true,
   "sideBar": true,
   "skip_h1_title": false,
   "title_cell": "Table of Contents",
   "title_sidebar": "Contents",
   "toc_cell": false,
   "toc_position": {},
   "toc_section_display": true,
   "toc_window_display": false
  }
 },
 "nbformat": 4,
 "nbformat_minor": 5
}
